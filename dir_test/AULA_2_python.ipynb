{
  "nbformat": 4,
  "nbformat_minor": 0,
  "metadata": {
    "kernelspec": {
      "display_name": "Python 3",
      "language": "python",
      "name": "python3"
    },
    "language_info": {
      "codemirror_mode": {
        "name": "ipython",
        "version": 3
      },
      "file_extension": ".py",
      "mimetype": "text/x-python",
      "name": "python",
      "nbconvert_exporter": "python",
      "pygments_lexer": "ipython3",
      "version": "3.7.0"
    },
    "colab": {
      "name": "AULA_2_python.ipynb",
      "provenance": [],
      "collapsed_sections": [
        "ovDMJX2TyAlZ",
        "VKVkWHALyAli",
        "fhVLq2sGyAll",
        "1D7bGyTuyAlr",
        "xLQU58LJyAl8",
        "9K0YVGLjyAmA",
        "LDYykqsryAmT",
        "5w0g3eItyAmZ",
        "t9JkW-fLyAmc",
        "LIEmLrEiyAmg",
        "Pg2nZDTayAmq",
        "ApWStk60yAm4",
        "Vz8GxGVqyAm5",
        "yvM-GLIOyAm6",
        "4S5d3rEkyAm9",
        "CmmYIGI7yAnP",
        "lY0k8SHNyAni"
      ],
      "include_colab_link": true
    }
  },
  "cells": [
    {
      "cell_type": "markdown",
      "metadata": {
        "id": "view-in-github",
        "colab_type": "text"
      },
      "source": [
        "<a href=\"https://colab.research.google.com/github/RUANACAMILA/Python_Aulas/blob/main/dir_test/AULA_2_python.ipynb\" target=\"_parent\"><img src=\"https://colab.research.google.com/assets/colab-badge.svg\" alt=\"Open In Colab\"/></a>"
      ]
    },
    {
      "cell_type": "markdown",
      "metadata": {
        "id": "lelXyfLdyAko"
      },
      "source": [
        "Essa aula é uma tradução, com algumas poucas modificações, do livro online: ***\"Think Python: How to Think Like a Computer Scientist\", Allen B. Downey, Version 2.0.17***\n",
        "http://greenteapress.com/thinkpython2/html/index.html\n",
        "\n",
        "\n",
        "Existe também uma versão do livro em português: https://penseallen.github.io/PensePython2e/"
      ]
    },
    {
      "cell_type": "markdown",
      "metadata": {
        "id": "bJijrhpvyAkq"
      },
      "source": [
        "# Variáveis, expressões e declarações"
      ]
    },
    {
      "cell_type": "markdown",
      "metadata": {
        "id": "_bhRA5L9yAku"
      },
      "source": [
        "## Valores e tipos\n",
        "\n",
        "* **valor** : algo fundamental manipulado pelo programa\n",
        "   * letra\n",
        "   * número\n",
        "* **tipo** : classificação dos valores\n",
        "   * letra: string\n",
        "   * número: inteiro, float, bool\n",
        "\n",
        "#### String\n",
        "* o tipo string é *str* e é identificado por aspas"
      ]
    },
    {
      "cell_type": "code",
      "metadata": {
        "id": "RYRG4hz_yAkv",
        "colab": {
          "base_uri": "https://localhost:8080/",
          "height": 35
        },
        "outputId": "92c21efa-7822-48b0-c071-671948b824a8"
      },
      "source": [
        "'letras'"
      ],
      "execution_count": null,
      "outputs": [
        {
          "output_type": "execute_result",
          "data": {
            "application/vnd.google.colaboratory.intrinsic+json": {
              "type": "string"
            },
            "text/plain": [
              "'letras'"
            ]
          },
          "metadata": {},
          "execution_count": 1
        }
      ]
    },
    {
      "cell_type": "markdown",
      "metadata": {
        "id": "cDzybOZLyAk1"
      },
      "source": [
        "#### Float\n",
        "* os números reais são representados pelo tipo de dados *float*"
      ]
    },
    {
      "cell_type": "code",
      "metadata": {
        "id": "B0jZHHaIyAk2",
        "colab": {
          "base_uri": "https://localhost:8080/"
        },
        "outputId": "2701b2d3-f7f4-430e-884f-e02f618ae19f"
      },
      "source": [
        "10.8"
      ],
      "execution_count": null,
      "outputs": [
        {
          "output_type": "execute_result",
          "data": {
            "text/plain": [
              "10.8"
            ]
          },
          "metadata": {},
          "execution_count": 2
        }
      ]
    },
    {
      "cell_type": "markdown",
      "metadata": {
        "id": "g2hnhSZKyAk5"
      },
      "source": [
        "Para saber o **tipo** de dados:"
      ]
    },
    {
      "cell_type": "code",
      "metadata": {
        "id": "rShNIDOGyAk6",
        "colab": {
          "base_uri": "https://localhost:8080/"
        },
        "outputId": "37d781fb-b31b-4c03-efc0-e886b1ab5d27"
      },
      "source": [
        "type('letras')"
      ],
      "execution_count": null,
      "outputs": [
        {
          "output_type": "execute_result",
          "data": {
            "text/plain": [
              "str"
            ]
          },
          "metadata": {},
          "execution_count": 3
        }
      ]
    },
    {
      "cell_type": "code",
      "metadata": {
        "id": "bgLmjbLzyAk-",
        "colab": {
          "base_uri": "https://localhost:8080/"
        },
        "outputId": "c85fb516-b756-4c2a-cc6c-ff29d84f0bd2"
      },
      "source": [
        "type(10.8)"
      ],
      "execution_count": null,
      "outputs": [
        {
          "output_type": "execute_result",
          "data": {
            "text/plain": [
              "float"
            ]
          },
          "metadata": {},
          "execution_count": 4
        }
      ]
    },
    {
      "cell_type": "code",
      "metadata": {
        "id": "_ce8NeUqyAlC",
        "colab": {
          "base_uri": "https://localhost:8080/"
        },
        "outputId": "1b6fc420-d0af-48c0-e8c6-1f12ac1f1bbc"
      },
      "source": [
        "type(8)"
      ],
      "execution_count": null,
      "outputs": [
        {
          "output_type": "execute_result",
          "data": {
            "text/plain": [
              "int"
            ]
          },
          "metadata": {},
          "execution_count": 5
        }
      ]
    },
    {
      "cell_type": "code",
      "metadata": {
        "id": "3K2FzKtzyAlF",
        "colab": {
          "base_uri": "https://localhost:8080/"
        },
        "outputId": "0947b1ec-044c-44e0-85de-64aed6b02b1c"
      },
      "source": [
        "type('3.8')"
      ],
      "execution_count": null,
      "outputs": [
        {
          "output_type": "execute_result",
          "data": {
            "text/plain": [
              "str"
            ]
          },
          "metadata": {},
          "execution_count": 6
        }
      ]
    },
    {
      "cell_type": "markdown",
      "metadata": {
        "id": "AqGNnOVIyAlI"
      },
      "source": [
        "## Variáveis\n",
        "\n",
        "Uma **variável** é um nome que se refere a um **valor**.\n",
        "\n",
        "\n",
        "Uma **declaração de atribuição** de variáveis, cria novas variáveis e lhes atribui valores:"
      ]
    },
    {
      "cell_type": "code",
      "metadata": {
        "id": "eekgmp1XyAlJ"
      },
      "source": [
        "mensagem = 'Temos um número grande alunos inscritos na disciplina'"
      ],
      "execution_count": null,
      "outputs": []
    },
    {
      "cell_type": "code",
      "metadata": {
        "id": "7OeSFySfyAlM"
      },
      "source": [
        "n_alunos = 25"
      ],
      "execution_count": null,
      "outputs": []
    },
    {
      "cell_type": "code",
      "metadata": {
        "id": "Panrmk5NyAlP"
      },
      "source": [
        "pi = 3.1415926535897932"
      ],
      "execution_count": null,
      "outputs": []
    },
    {
      "cell_type": "code",
      "metadata": {
        "id": "ZrfHXsU0yAlR",
        "colab": {
          "base_uri": "https://localhost:8080/"
        },
        "outputId": "fdffdc60-b38d-41e6-ca71-cdab2efd6b13"
      },
      "source": [
        "type(mensagem)"
      ],
      "execution_count": null,
      "outputs": [
        {
          "output_type": "execute_result",
          "data": {
            "text/plain": [
              "str"
            ]
          },
          "metadata": {},
          "execution_count": 9
        }
      ]
    },
    {
      "cell_type": "code",
      "metadata": {
        "id": "NTIHLjqCyAlU",
        "colab": {
          "base_uri": "https://localhost:8080/"
        },
        "outputId": "6cc73649-9881-4245-d61c-e03fb02c4396"
      },
      "source": [
        "type(n_alunos)"
      ],
      "execution_count": null,
      "outputs": [
        {
          "output_type": "execute_result",
          "data": {
            "text/plain": [
              "int"
            ]
          },
          "metadata": {},
          "execution_count": 10
        }
      ]
    },
    {
      "cell_type": "code",
      "metadata": {
        "id": "Sjo05z0syAlW",
        "colab": {
          "base_uri": "https://localhost:8080/"
        },
        "outputId": "53715df0-7c81-4bd3-bc79-a8d0da03cbb8"
      },
      "source": [
        "type(pi)"
      ],
      "execution_count": null,
      "outputs": [
        {
          "output_type": "execute_result",
          "data": {
            "text/plain": [
              "float"
            ]
          },
          "metadata": {},
          "execution_count": 11
        }
      ]
    },
    {
      "cell_type": "markdown",
      "metadata": {
        "id": "ovDMJX2TyAlZ"
      },
      "source": [
        "## Nomes de variáveis e palavras-chave\n",
        "Em geral, é de boa prática usarmos nomes de variáveis sugestivos.\n",
        "\n",
        "Nomes de variáveis podem ser arbitrariamente longos. Eles podem conter letras e números, mas **precisam começar com uma letra**. \n",
        "Pode-se usar letras maiúsculas, mas a diretriz de programação em Python é começar nomes de variáveis com letras minúsculas.\n",
        "\n",
        "O caractere *underline*, '_',  pode aparecer em um nome. É frequentemente usado em nomes com várias palavras, como *meu_nome* ou *massa_de_repouso*.\n",
        "\n",
        "Ao criar uma variável com um nome não permitido, haverá um erro de sintaxe:"
      ]
    },
    {
      "cell_type": "code",
      "metadata": {
        "id": "kNPMnzy1yAlZ",
        "colab": {
          "base_uri": "https://localhost:8080/",
          "height": 131
        },
        "outputId": "1c989a29-16e7-46ff-8d25-5d6dd9d5f1b1"
      },
      "source": [
        "500mil_pessoas = 'multidao'"
      ],
      "execution_count": null,
      "outputs": [
        {
          "output_type": "error",
          "ename": "SyntaxError",
          "evalue": "ignored",
          "traceback": [
            "\u001b[0;36m  File \u001b[0;32m\"<ipython-input-7-20b6b75de348>\"\u001b[0;36m, line \u001b[0;32m1\u001b[0m\n\u001b[0;31m    500mil_pessoas = 'multidao'\u001b[0m\n\u001b[0m                 ^\u001b[0m\n\u001b[0;31mSyntaxError\u001b[0m\u001b[0;31m:\u001b[0m invalid syntax\n"
          ]
        }
      ]
    },
    {
      "cell_type": "code",
      "metadata": {
        "id": "hqHlckTuyAlc",
        "colab": {
          "base_uri": "https://localhost:8080/",
          "height": 131
        },
        "outputId": "1035fbda-b945-4037-fbe0-e7c368f5471f"
      },
      "source": [
        "milh@res = 10000 "
      ],
      "execution_count": null,
      "outputs": [
        {
          "output_type": "error",
          "ename": "SyntaxError",
          "evalue": "ignored",
          "traceback": [
            "\u001b[0;36m  File \u001b[0;32m\"<ipython-input-8-bf37c9c6512e>\"\u001b[0;36m, line \u001b[0;32m1\u001b[0m\n\u001b[0;31m    milh@res = 10000\u001b[0m\n\u001b[0m                     ^\u001b[0m\n\u001b[0;31mSyntaxError\u001b[0m\u001b[0;31m:\u001b[0m can't assign to operator\n"
          ]
        }
      ]
    },
    {
      "cell_type": "code",
      "metadata": {
        "id": "DbD14wyoyAlf",
        "colab": {
          "base_uri": "https://localhost:8080/",
          "height": 131
        },
        "outputId": "2a91d5f6-b043-4351-e246-67f3155cfaa8"
      },
      "source": [
        "class = 'Introdução a Python'"
      ],
      "execution_count": null,
      "outputs": [
        {
          "output_type": "error",
          "ename": "SyntaxError",
          "evalue": "ignored",
          "traceback": [
            "\u001b[0;36m  File \u001b[0;32m\"<ipython-input-9-6c404f2ec67c>\"\u001b[0;36m, line \u001b[0;32m1\u001b[0m\n\u001b[0;31m    class = 'Introdução a Python'\u001b[0m\n\u001b[0m          ^\u001b[0m\n\u001b[0;31mSyntaxError\u001b[0m\u001b[0;31m:\u001b[0m invalid syntax\n"
          ]
        }
      ]
    },
    {
      "cell_type": "markdown",
      "metadata": {
        "id": "VKVkWHALyAli"
      },
      "source": [
        "#### Palavras-chave de Python"
      ]
    },
    {
      "cell_type": "code",
      "metadata": {
        "id": "sWr9j7SEyAli",
        "colab": {
          "base_uri": "https://localhost:8080/"
        },
        "outputId": "2ee2f178-0b9f-4420-ce2b-d265cfde689e"
      },
      "source": [
        "import keyword\n",
        "print(keyword.kwlist)"
      ],
      "execution_count": null,
      "outputs": [
        {
          "output_type": "stream",
          "name": "stdout",
          "text": [
            "['False', 'None', 'True', 'and', 'as', 'assert', 'async', 'await', 'break', 'class', 'continue', 'def', 'del', 'elif', 'else', 'except', 'finally', 'for', 'from', 'global', 'if', 'import', 'in', 'is', 'lambda', 'nonlocal', 'not', 'or', 'pass', 'raise', 'return', 'try', 'while', 'with', 'yield']\n"
          ]
        }
      ]
    },
    {
      "cell_type": "markdown",
      "metadata": {
        "id": "fhVLq2sGyAll"
      },
      "source": [
        "## Operadores e operandos\n",
        "* **Operadores**: símbolos especiais que representam cálculos como adição e multiplicação. \n",
        "* **Operandos**: valores aos quais o operador é aplicado.\n",
        "\n",
        "### Operadores:\n",
        "* adição: + \n",
        "* subtração: - \n",
        "* divisão: /\n",
        "* multiplicação: *\n",
        "* potência: **"
      ]
    },
    {
      "cell_type": "markdown",
      "metadata": {
        "id": "g0uSfIsQyAll"
      },
      "source": [
        "Em **python2**, a divisão de inteiros retorna um inteiro (**divisão de piso**). \n",
        "\n",
        "Porém, em **python3**, o resultado é um float:"
      ]
    },
    {
      "cell_type": "code",
      "metadata": {
        "id": "_a4fFXlxyAlm",
        "colab": {
          "base_uri": "https://localhost:8080/"
        },
        "outputId": "1fdde58b-e11c-4372-ef29-28205b7d7d15"
      },
      "source": [
        "59/60"
      ],
      "execution_count": null,
      "outputs": [
        {
          "output_type": "execute_result",
          "data": {
            "text/plain": [
              "0.9833333333333333"
            ]
          },
          "metadata": {},
          "execution_count": 11
        }
      ]
    },
    {
      "cell_type": "code",
      "metadata": {
        "id": "nhHqhOAEyAlo",
        "colab": {
          "base_uri": "https://localhost:8080/"
        },
        "outputId": "f0bc2f26-4dec-471b-9b10-c393a0b64d3a"
      },
      "source": [
        "# Para divisão de piso em python3:\n",
        "59//60"
      ],
      "execution_count": null,
      "outputs": [
        {
          "output_type": "execute_result",
          "data": {
            "text/plain": [
              "0"
            ]
          },
          "metadata": {},
          "execution_count": 12
        }
      ]
    },
    {
      "cell_type": "markdown",
      "metadata": {
        "id": "1D7bGyTuyAlr"
      },
      "source": [
        "## Expressões e declarações\n",
        "Uma **expressão** é uma combinação de *valores*, *variáveis* e *operadores*. \n",
        "\n",
        "Um valor por si só é considerado uma expressão.\n",
        "\n",
        "Uma variável por si só também é considerada uma expressão.\n",
        "\n",
        "Exemplos de expressão:"
      ]
    },
    {
      "cell_type": "code",
      "metadata": {
        "id": "kjQ96wYiyAls",
        "colab": {
          "base_uri": "https://localhost:8080/",
          "height": 165
        },
        "outputId": "590674d2-64c5-4374-c9d1-096dd4b89ab7"
      },
      "source": [
        "n_alunos"
      ],
      "execution_count": null,
      "outputs": [
        {
          "output_type": "error",
          "ename": "NameError",
          "evalue": "ignored",
          "traceback": [
            "\u001b[0;31m---------------------------------------------------------------------------\u001b[0m",
            "\u001b[0;31mNameError\u001b[0m                                 Traceback (most recent call last)",
            "\u001b[0;32m<ipython-input-13-27664d1cda5d>\u001b[0m in \u001b[0;36m<module>\u001b[0;34m()\u001b[0m\n\u001b[0;32m----> 1\u001b[0;31m \u001b[0mn_alunos\u001b[0m\u001b[0;34m\u001b[0m\u001b[0;34m\u001b[0m\u001b[0m\n\u001b[0m",
            "\u001b[0;31mNameError\u001b[0m: name 'n_alunos' is not defined"
          ]
        }
      ]
    },
    {
      "cell_type": "code",
      "metadata": {
        "id": "ct3w6YuqyAlv",
        "colab": {
          "base_uri": "https://localhost:8080/"
        },
        "outputId": "04d9d02a-95c0-45d8-f9b7-16155b528ec5"
      },
      "source": [
        "20"
      ],
      "execution_count": null,
      "outputs": [
        {
          "output_type": "execute_result",
          "data": {
            "text/plain": [
              "20"
            ]
          },
          "metadata": {},
          "execution_count": 14
        }
      ]
    },
    {
      "cell_type": "code",
      "metadata": {
        "id": "tGsdE5X9yAl0",
        "colab": {
          "base_uri": "https://localhost:8080/",
          "height": 165
        },
        "outputId": "e806be84-ac62-4052-fae4-5912786e6a7f"
      },
      "source": [
        "n_alunos + 20"
      ],
      "execution_count": null,
      "outputs": [
        {
          "output_type": "error",
          "ename": "NameError",
          "evalue": "ignored",
          "traceback": [
            "\u001b[0;31m---------------------------------------------------------------------------\u001b[0m",
            "\u001b[0;31mNameError\u001b[0m                                 Traceback (most recent call last)",
            "\u001b[0;32m<ipython-input-15-5e08b4ef7769>\u001b[0m in \u001b[0;36m<module>\u001b[0;34m()\u001b[0m\n\u001b[0;32m----> 1\u001b[0;31m \u001b[0mn_alunos\u001b[0m \u001b[0;34m+\u001b[0m \u001b[0;36m20\u001b[0m\u001b[0;34m\u001b[0m\u001b[0;34m\u001b[0m\u001b[0m\n\u001b[0m",
            "\u001b[0;31mNameError\u001b[0m: name 'n_alunos' is not defined"
          ]
        }
      ]
    },
    {
      "cell_type": "markdown",
      "metadata": {
        "id": "JwPi2FD6yAl2"
      },
      "source": [
        "Uma **declaração** é um pedaço de código que o interpretador de Python pode executar. \n",
        "Por exemplo, uma atribuição (*assignment*) também é uma declaração: "
      ]
    },
    {
      "cell_type": "code",
      "metadata": {
        "id": "ekbstHg3yAl2"
      },
      "source": [
        "x = 20"
      ],
      "execution_count": null,
      "outputs": []
    },
    {
      "cell_type": "code",
      "metadata": {
        "id": "OV7WnTOWyAl6",
        "colab": {
          "base_uri": "https://localhost:8080/"
        },
        "outputId": "d7e4ad58-740d-40b9-e3c3-a7784dae8eae"
      },
      "source": [
        "print(' \"print\" também é uma declaração')"
      ],
      "execution_count": null,
      "outputs": [
        {
          "output_type": "stream",
          "name": "stdout",
          "text": [
            " \"print\" também é uma declaração\n"
          ]
        }
      ]
    },
    {
      "cell_type": "markdown",
      "metadata": {
        "id": "JFrzoqa-4f7b"
      },
      "source": [
        "* Quando criamos uma **expressão** o interpretador **calcula** algo e obtém um resultado;\n",
        "* Ao criar uma **declaração**, o interpretador de Python precisa **executar** a declaração, que é atender ao comando da declaração. Em geral, declarações não precisam ter um resultado."
      ]
    },
    {
      "cell_type": "markdown",
      "metadata": {
        "id": "xLQU58LJyAl8"
      },
      "source": [
        "### Exercício\n",
        "Digite as seguintes expressões e/ou declarações no prompt e veja o que elas fazem:\n",
        "* 5\n",
        "* x = 5\n",
        "* x + 1\n",
        "\n",
        "Em seguida, escreva um script com as declarações e compare a saída do script e do prompt. Modifique o script para que as saídas (do script e prompt) sejam iguais."
      ]
    },
    {
      "cell_type": "code",
      "metadata": {
        "id": "LE6WbfsU9L3g",
        "colab": {
          "base_uri": "https://localhost:8080/"
        },
        "outputId": "126d7eb9-c8f8-4d08-cddc-6e2e43e3006d"
      },
      "source": [
        "5"
      ],
      "execution_count": null,
      "outputs": [
        {
          "output_type": "execute_result",
          "data": {
            "text/plain": [
              "5"
            ]
          },
          "metadata": {},
          "execution_count": 18
        }
      ]
    },
    {
      "cell_type": "code",
      "metadata": {
        "id": "_cEqIa_VDJ7p"
      },
      "source": [
        "x = 5"
      ],
      "execution_count": null,
      "outputs": []
    },
    {
      "cell_type": "code",
      "metadata": {
        "id": "JshLSsPBDMim",
        "colab": {
          "base_uri": "https://localhost:8080/"
        },
        "outputId": "e2bba9af-06a5-4478-e9a1-5f3bae52d8f4"
      },
      "source": [
        "x + 1"
      ],
      "execution_count": null,
      "outputs": [
        {
          "output_type": "execute_result",
          "data": {
            "text/plain": [
              "6"
            ]
          },
          "metadata": {},
          "execution_count": 20
        }
      ]
    },
    {
      "cell_type": "code",
      "metadata": {
        "id": "3vltzq-M-pTE",
        "colab": {
          "base_uri": "https://localhost:8080/",
          "height": 430
        },
        "outputId": "5f3793b9-6ce5-4828-b7a5-62d2bf220689"
      },
      "source": [
        "from google.colab import drive\n",
        "drive.mount('/gdrive')\n",
        "%cd /gdrive/"
      ],
      "execution_count": 2,
      "outputs": [
        {
          "name": "stdout",
          "output_type": "stream",
          "text": [
            "Go to this URL in a browser: https://accounts.google.com/o/oauth2/auth?client_id=947318989803-6bn6qk8qdgf4n4g3pfee6491hc0brc4i.apps.googleusercontent.com&redirect_uri=urn%3aietf%3awg%3aoauth%3a2.0%3aoob&scope=email%20https%3a%2f%2fwww.googleapis.com%2fauth%2fdocs.test%20https%3a%2f%2fwww.googleapis.com%2fauth%2fdrive%20https%3a%2f%2fwww.googleapis.com%2fauth%2fdrive.photos.readonly%20https%3a%2f%2fwww.googleapis.com%2fauth%2fpeopleapi.readonly%20https%3a%2f%2fwww.googleapis.com%2fauth%2fdrive.activity.readonly%20https%3a%2f%2fwww.googleapis.com%2fauth%2fexperimentsandconfigs%20https%3a%2f%2fwww.googleapis.com%2fauth%2fphotos.native&response_type=code\n",
            "\n",
            "Enter your authorization code:\n",
            "4/ 1AX4XfWhR6SohwTBeK5oiQKxE-ENqUB5uDRdA3teCAid1QVK87P6oih-DM3I\n"
          ]
        },
        {
          "output_type": "error",
          "ename": "ValueError",
          "evalue": "ignored",
          "traceback": [
            "\u001b[0;31m---------------------------------------------------------------------------\u001b[0m",
            "\u001b[0;31mValueError\u001b[0m                                Traceback (most recent call last)",
            "\u001b[0;32m<ipython-input-2-d4b868da486e>\u001b[0m in \u001b[0;36m<module>\u001b[0;34m()\u001b[0m\n\u001b[1;32m      1\u001b[0m \u001b[0;32mfrom\u001b[0m \u001b[0mgoogle\u001b[0m\u001b[0;34m.\u001b[0m\u001b[0mcolab\u001b[0m \u001b[0;32mimport\u001b[0m \u001b[0mdrive\u001b[0m\u001b[0;34m\u001b[0m\u001b[0;34m\u001b[0m\u001b[0m\n\u001b[0;32m----> 2\u001b[0;31m \u001b[0mdrive\u001b[0m\u001b[0;34m.\u001b[0m\u001b[0mmount\u001b[0m\u001b[0;34m(\u001b[0m\u001b[0;34m'/gdrive'\u001b[0m\u001b[0;34m)\u001b[0m\u001b[0;34m\u001b[0m\u001b[0;34m\u001b[0m\u001b[0m\n\u001b[0m\u001b[1;32m      3\u001b[0m \u001b[0mget_ipython\u001b[0m\u001b[0;34m(\u001b[0m\u001b[0;34m)\u001b[0m\u001b[0;34m.\u001b[0m\u001b[0mmagic\u001b[0m\u001b[0;34m(\u001b[0m\u001b[0;34m'cd /gdrive/'\u001b[0m\u001b[0;34m)\u001b[0m\u001b[0;34m\u001b[0m\u001b[0;34m\u001b[0m\u001b[0m\n",
            "\u001b[0;32m/usr/local/lib/python3.7/dist-packages/google/colab/drive.py\u001b[0m in \u001b[0;36mmount\u001b[0;34m(mountpoint, force_remount, timeout_ms, use_metadata_server)\u001b[0m\n\u001b[1;32m    112\u001b[0m       \u001b[0mtimeout_ms\u001b[0m\u001b[0;34m=\u001b[0m\u001b[0mtimeout_ms\u001b[0m\u001b[0;34m,\u001b[0m\u001b[0;34m\u001b[0m\u001b[0;34m\u001b[0m\u001b[0m\n\u001b[1;32m    113\u001b[0m       \u001b[0muse_metadata_server\u001b[0m\u001b[0;34m=\u001b[0m\u001b[0muse_metadata_server\u001b[0m\u001b[0;34m,\u001b[0m\u001b[0;34m\u001b[0m\u001b[0;34m\u001b[0m\u001b[0m\n\u001b[0;32m--> 114\u001b[0;31m       ephemeral=ephemeral)\n\u001b[0m\u001b[1;32m    115\u001b[0m \u001b[0;34m\u001b[0m\u001b[0m\n\u001b[1;32m    116\u001b[0m \u001b[0;34m\u001b[0m\u001b[0m\n",
            "\u001b[0;32m/usr/local/lib/python3.7/dist-packages/google/colab/drive.py\u001b[0m in \u001b[0;36m_mount\u001b[0;34m(mountpoint, force_remount, timeout_ms, use_metadata_server, ephemeral)\u001b[0m\n\u001b[1;32m    294\u001b[0m       \u001b[0mwrote_to_fifo\u001b[0m \u001b[0;34m=\u001b[0m \u001b[0;32mTrue\u001b[0m\u001b[0;34m\u001b[0m\u001b[0;34m\u001b[0m\u001b[0m\n\u001b[1;32m    295\u001b[0m     \u001b[0;32melif\u001b[0m \u001b[0mcase\u001b[0m \u001b[0;34m==\u001b[0m \u001b[0;36m5\u001b[0m\u001b[0;34m:\u001b[0m\u001b[0;34m\u001b[0m\u001b[0;34m\u001b[0m\u001b[0m\n\u001b[0;32m--> 296\u001b[0;31m       \u001b[0;32mraise\u001b[0m \u001b[0mValueError\u001b[0m\u001b[0;34m(\u001b[0m\u001b[0;34m'mount failed: invalid oauth code'\u001b[0m\u001b[0;34m)\u001b[0m\u001b[0;34m\u001b[0m\u001b[0;34m\u001b[0m\u001b[0m\n\u001b[0m\u001b[1;32m    297\u001b[0m     \u001b[0;32melif\u001b[0m \u001b[0mcase\u001b[0m \u001b[0;34m==\u001b[0m \u001b[0;36m6\u001b[0m\u001b[0;34m:\u001b[0m\u001b[0;34m\u001b[0m\u001b[0;34m\u001b[0m\u001b[0m\n\u001b[1;32m    298\u001b[0m       \u001b[0;31m# Terminate the DriveFS binary before killing bash.\u001b[0m\u001b[0;34m\u001b[0m\u001b[0;34m\u001b[0m\u001b[0;34m\u001b[0m\u001b[0m\n",
            "\u001b[0;31mValueError\u001b[0m: mount failed: invalid oauth code"
          ]
        }
      ]
    },
    {
      "cell_type": "code",
      "metadata": {
        "id": "7RxF7atIyAl9"
      },
      "source": [
        "%cd /gdrive/My Drive/Cálculo\n",
        "# como rodar um script a partir do jupyter notebook:\n",
        "%run - calculo_vol_1_guidorizzi.pdf"
      ],
      "execution_count": null,
      "outputs": []
    },
    {
      "cell_type": "markdown",
      "metadata": {
        "id": "9K0YVGLjyAmA"
      },
      "source": [
        "## Ordem das Operações\n",
        "\n",
        "Quando mais de um operador aparece em uma expressão, a ordem de avaliação depende das **regras de precedência**. Para operadores matemáticos, o **Python segue a convenção matemática**. O acrônimo **PEMDAS (Parênteses, Exponenciação, Multiplicação e Divisão)** é uma maneira útil de lembrar as regras:\n",
        "\n",
        "**P**arênteses: têm a precedência mais alta e podem ser usados para forçar uma expressão a ser avaliada na ordem desejada. As expressões entre parênteses são avaliadas primeiro.\n",
        "\n",
        "Você também pode usar parênteses para melhorar a legibilidade, mesmo não alterando o resultado."
      ]
    },
    {
      "cell_type": "code",
      "metadata": {
        "id": "h4j1JDFxyAmA",
        "colab": {
          "base_uri": "https://localhost:8080/"
        },
        "outputId": "0bc469aa-2f96-4574-bfa4-955cf42f0095"
      },
      "source": [
        "2 * (3 - 1)"
      ],
      "execution_count": null,
      "outputs": [
        {
          "output_type": "execute_result",
          "data": {
            "text/plain": [
              "4"
            ]
          },
          "metadata": {},
          "execution_count": 16
        }
      ]
    },
    {
      "cell_type": "code",
      "metadata": {
        "id": "7f3yC-CEyAmD",
        "colab": {
          "base_uri": "https://localhost:8080/"
        },
        "outputId": "de316a6c-1b59-4468-87de-684428ac9a24"
      },
      "source": [
        "(1 + 1)**(5 - 2)"
      ],
      "execution_count": null,
      "outputs": [
        {
          "output_type": "execute_result",
          "data": {
            "text/plain": [
              "8"
            ]
          },
          "metadata": {},
          "execution_count": 17
        }
      ]
    },
    {
      "cell_type": "code",
      "metadata": {
        "id": "pH750EvYyAmF",
        "colab": {
          "base_uri": "https://localhost:8080/"
        },
        "outputId": "4911833e-23d4-492c-f872-3ee12985c700"
      },
      "source": [
        "n_alunos = 25\n",
        "(n_alunos * 100) / 60"
      ],
      "execution_count": null,
      "outputs": [
        {
          "output_type": "execute_result",
          "data": {
            "text/plain": [
              "41.666666666666664"
            ]
          },
          "metadata": {},
          "execution_count": 35
        }
      ]
    },
    {
      "cell_type": "markdown",
      "metadata": {
        "id": "cxN4MvhNyAmH"
      },
      "source": [
        "**E**xponenciação: tem a segunda precedência mais alta:"
      ]
    },
    {
      "cell_type": "code",
      "metadata": {
        "id": "WMRKhSxeyAmH",
        "colab": {
          "base_uri": "https://localhost:8080/"
        },
        "outputId": "30362167-857b-4ba2-a2be-6f134566663e"
      },
      "source": [
        "2 ** 1 + 1"
      ],
      "execution_count": null,
      "outputs": [
        {
          "output_type": "execute_result",
          "data": {
            "text/plain": [
              "3"
            ]
          },
          "metadata": {},
          "execution_count": 19
        }
      ]
    },
    {
      "cell_type": "code",
      "metadata": {
        "id": "X1SZYx89yAmK",
        "colab": {
          "base_uri": "https://localhost:8080/"
        },
        "outputId": "ccbc58a3-9891-4966-d26f-0bb1063f385f"
      },
      "source": [
        "3 * 1 ** 3"
      ],
      "execution_count": null,
      "outputs": [
        {
          "output_type": "execute_result",
          "data": {
            "text/plain": [
              "3"
            ]
          },
          "metadata": {},
          "execution_count": 20
        }
      ]
    },
    {
      "cell_type": "markdown",
      "metadata": {
        "id": "9U1vUd1ayAmN"
      },
      "source": [
        "**M**ultiplicação e **D**ivisão: têm a mesma precedência, que é maior que **A**dição e **S**ubtração, que também têm a mesma precedência."
      ]
    },
    {
      "cell_type": "code",
      "metadata": {
        "id": "SsDu7MhmyAmO",
        "colab": {
          "base_uri": "https://localhost:8080/"
        },
        "outputId": "6212e483-b383-4215-c2e6-56d34ec63aa7"
      },
      "source": [
        "2 * 3 - 1"
      ],
      "execution_count": null,
      "outputs": [
        {
          "output_type": "execute_result",
          "data": {
            "text/plain": [
              "5"
            ]
          },
          "metadata": {},
          "execution_count": 21
        }
      ]
    },
    {
      "cell_type": "code",
      "metadata": {
        "id": "pmHofaQeyAmQ",
        "colab": {
          "base_uri": "https://localhost:8080/"
        },
        "outputId": "33f0c624-932e-4352-9820-f3ff07dd9b4a"
      },
      "source": [
        "6 + 4/2"
      ],
      "execution_count": null,
      "outputs": [
        {
          "output_type": "execute_result",
          "data": {
            "text/plain": [
              "8.0"
            ]
          },
          "metadata": {},
          "execution_count": 22
        }
      ]
    },
    {
      "cell_type": "markdown",
      "metadata": {
        "id": "cGwkp5A7yAmS"
      },
      "source": [
        "***Na dúvida, use sempre parênteses!***"
      ]
    },
    {
      "cell_type": "markdown",
      "metadata": {
        "id": "LDYykqsryAmT"
      },
      "source": [
        "## Operações com Strings\n",
        "\n",
        "Em geral, **não é possível realizar operações matemáticas em strings**"
      ]
    },
    {
      "cell_type": "code",
      "metadata": {
        "id": "NCV21oC4yAmT",
        "colab": {
          "base_uri": "https://localhost:8080/",
          "height": 165
        },
        "outputId": "640c15f0-6220-4d5d-b91f-528cf29fa2b4"
      },
      "source": [
        "'2' - '1'"
      ],
      "execution_count": null,
      "outputs": [
        {
          "output_type": "error",
          "ename": "TypeError",
          "evalue": "ignored",
          "traceback": [
            "\u001b[0;31m---------------------------------------------------------------------------\u001b[0m",
            "\u001b[0;31mTypeError\u001b[0m                                 Traceback (most recent call last)",
            "\u001b[0;32m<ipython-input-23-c3c854adf3eb>\u001b[0m in \u001b[0;36m<module>\u001b[0;34m()\u001b[0m\n\u001b[0;32m----> 1\u001b[0;31m \u001b[0;34m'2'\u001b[0m \u001b[0;34m-\u001b[0m \u001b[0;34m'1'\u001b[0m\u001b[0;34m\u001b[0m\u001b[0;34m\u001b[0m\u001b[0m\n\u001b[0m",
            "\u001b[0;31mTypeError\u001b[0m: unsupported operand type(s) for -: 'str' and 'str'"
          ]
        }
      ]
    },
    {
      "cell_type": "code",
      "metadata": {
        "id": "FieeOYMUyAmV",
        "colab": {
          "base_uri": "https://localhost:8080/",
          "height": 165
        },
        "outputId": "fcaa7fe8-e1da-4d7e-8bcb-ec3b00e4408a"
      },
      "source": [
        "'quebrar' / 'ovos'"
      ],
      "execution_count": null,
      "outputs": [
        {
          "output_type": "error",
          "ename": "TypeError",
          "evalue": "ignored",
          "traceback": [
            "\u001b[0;31m---------------------------------------------------------------------------\u001b[0m",
            "\u001b[0;31mTypeError\u001b[0m                                 Traceback (most recent call last)",
            "\u001b[0;32m<ipython-input-24-188d66571968>\u001b[0m in \u001b[0;36m<module>\u001b[0;34m()\u001b[0m\n\u001b[0;32m----> 1\u001b[0;31m \u001b[0;34m'quebrar'\u001b[0m \u001b[0;34m/\u001b[0m \u001b[0;34m'ovos'\u001b[0m\u001b[0;34m\u001b[0m\u001b[0;34m\u001b[0m\u001b[0m\n\u001b[0m",
            "\u001b[0;31mTypeError\u001b[0m: unsupported operand type(s) for /: 'str' and 'str'"
          ]
        }
      ]
    },
    {
      "cell_type": "code",
      "metadata": {
        "id": "rdulv9iIyAmX"
      },
      "source": [
        "'acucar' * 'doce'"
      ],
      "execution_count": null,
      "outputs": []
    },
    {
      "cell_type": "markdown",
      "metadata": {
        "id": "5w0g3eItyAmZ"
      },
      "source": [
        "#### O operador '+' pode ser aplicado a strings: ele realiza **concatenação**, o que significa unir as strings vinculando-as de ponta a ponta."
      ]
    },
    {
      "cell_type": "code",
      "metadata": {
        "id": "RKl-wf3-yAma",
        "colab": {
          "base_uri": "https://localhost:8080/"
        },
        "outputId": "b4e5707c-680d-4991-8230-38f1b9678e46"
      },
      "source": [
        "primeira_frase = 'mundo, mundo'\n",
        "segunda_frase = ', vasto mundo'\n",
        "print(primeira_frase + segunda_frase)"
      ],
      "execution_count": null,
      "outputs": [
        {
          "output_type": "stream",
          "name": "stdout",
          "text": [
            "mundo, mundo, vasto mundo\n"
          ]
        }
      ]
    },
    {
      "cell_type": "markdown",
      "metadata": {
        "id": "t9JkW-fLyAmc"
      },
      "source": [
        "#### O operador '*' também pode ser aplicado a strings. Porém um dos operandos tem que ser uma string e o outro um inteiro:"
      ]
    },
    {
      "cell_type": "code",
      "metadata": {
        "id": "l5H58WxqyAmc",
        "colab": {
          "base_uri": "https://localhost:8080/",
          "height": 35
        },
        "outputId": "447e9e94-0f35-421f-ee9d-1f0ce78d608c"
      },
      "source": [
        "'mundo'*4"
      ],
      "execution_count": null,
      "outputs": [
        {
          "output_type": "execute_result",
          "data": {
            "application/vnd.google.colaboratory.intrinsic+json": {
              "type": "string"
            },
            "text/plain": [
              "'mundomundomundomundo'"
            ]
          },
          "metadata": {},
          "execution_count": 28
        }
      ]
    },
    {
      "cell_type": "code",
      "metadata": {
        "id": "Hdg05v-2yAme",
        "colab": {
          "base_uri": "https://localhost:8080/",
          "height": 35
        },
        "outputId": "0fd3e220-1b8d-43d5-c3f1-11e3db1c465d"
      },
      "source": [
        "'mundo, '*2 + 'vasto mundo' "
      ],
      "execution_count": null,
      "outputs": [
        {
          "output_type": "execute_result",
          "data": {
            "application/vnd.google.colaboratory.intrinsic+json": {
              "type": "string"
            },
            "text/plain": [
              "'mundo, mundo, vasto mundo'"
            ]
          },
          "metadata": {},
          "execution_count": 29
        }
      ]
    },
    {
      "cell_type": "markdown",
      "metadata": {
        "id": "LIEmLrEiyAmg"
      },
      "source": [
        "## Comentários\n",
        "\n",
        "É recomendável adicionar observações aos seus programas para explicar em linguagem natural o que o programa está fazendo. Essas observações são chamadas de **comentários** e começam com o símbolo **#**.\n",
        "\n",
        "Um comentário é útil quando relata alguma característica não óbvia do programa."
      ]
    },
    {
      "cell_type": "code",
      "metadata": {
        "id": "W-wGB1sgyAmh",
        "colab": {
          "base_uri": "https://localhost:8080/"
        },
        "outputId": "d72cbd82-23d2-4b75-fa0b-775e71c70a1e"
      },
      "source": [
        "# Calcular a velocidade v de um corpo\n",
        "s = 100 # distância em metros\n",
        "t = 10 # tempo em segundos\n",
        "v = s/t\n",
        "print('velocidade = ', v, 'm/s')"
      ],
      "execution_count": null,
      "outputs": [
        {
          "output_type": "stream",
          "name": "stdout",
          "text": [
            "velocidade =  10.0 m/s\n"
          ]
        }
      ]
    },
    {
      "cell_type": "markdown",
      "metadata": {
        "id": "7XRiXmw5yAmj"
      },
      "source": [
        "Exemplo de comentário inútil:"
      ]
    },
    {
      "cell_type": "code",
      "metadata": {
        "id": "4jSqqx_OyAmk"
      },
      "source": [
        "s = 100 # atribui o valor 100 a s. "
      ],
      "execution_count": null,
      "outputs": []
    },
    {
      "cell_type": "markdown",
      "metadata": {
        "id": "gu34FLdpyAmn"
      },
      "source": [
        "A escolha de bons nomes de variáveis, diminui o número de comentários necessários:"
      ]
    },
    {
      "cell_type": "code",
      "metadata": {
        "id": "mP_22gxMyAmo",
        "colab": {
          "base_uri": "https://localhost:8080/"
        },
        "outputId": "34a560a0-10bc-470b-c5a8-f92c09190491"
      },
      "source": [
        "# Calcular a velocidade em m/s de um corpo\n",
        "distancia = 100 \n",
        "tempo = 10 \n",
        "velocidade = distancia/tempo\n",
        "print(velocidade, 'm/s')"
      ],
      "execution_count": null,
      "outputs": [
        {
          "output_type": "stream",
          "name": "stdout",
          "text": [
            "10.0 m/s\n"
          ]
        }
      ]
    },
    {
      "cell_type": "markdown",
      "metadata": {
        "id": "Pg2nZDTayAmq"
      },
      "source": [
        "## Debugging\n",
        "\n",
        "Os **erros de sintaxe** mais comuns até aqui devem ser:\n",
        "\n",
        "* ***nome de variável ilegal (não permitido)***:\n",
        "   * *class* e *yield*, que são palavras-chave (keyword)\n",
        "   * *meu-nome* e *R$*, que contêm caracteres ilegais.\n",
        "\n",
        "Se você colocar um espaço em um nome de variável, o Python acha que são dois operandos sem um operador:"
      ]
    },
    {
      "cell_type": "code",
      "metadata": {
        "id": "ahiFLzTUyAmr",
        "colab": {
          "base_uri": "https://localhost:8080/",
          "height": 131
        },
        "outputId": "ba847bad-2d75-4f45-8d10-34de7f464f3a"
      },
      "source": [
        "nome ruim de variavel = 5"
      ],
      "execution_count": null,
      "outputs": [
        {
          "output_type": "error",
          "ename": "SyntaxError",
          "evalue": "ignored",
          "traceback": [
            "\u001b[0;36m  File \u001b[0;32m\"<ipython-input-39-2525dea9ab01>\"\u001b[0;36m, line \u001b[0;32m1\u001b[0m\n\u001b[0;31m    nome ruim de variavel = 5\u001b[0m\n\u001b[0m            ^\u001b[0m\n\u001b[0;31mSyntaxError\u001b[0m\u001b[0;31m:\u001b[0m invalid syntax\n"
          ]
        }
      ]
    },
    {
      "cell_type": "markdown",
      "metadata": {
        "id": "1lACCLu_yAmv"
      },
      "source": [
        "As mensagens mais comuns são SyntaxError: sintaxe inválida e SyntaxError: token inválido, nenhum dos quais é muito informativo.\n",
        "\n",
        "O **erro de execução** que você provavelmente mais encontrará é a de **tentativa de uso de uma variável antes antes de atribuir um valor (*use before def*)**. Isso pode acontecer quando se soletra um nome de variável errado:"
      ]
    },
    {
      "cell_type": "code",
      "metadata": {
        "id": "VExIEYFUyAmv",
        "colab": {
          "base_uri": "https://localhost:8080/"
        },
        "outputId": "046dc598-95d6-436f-9b8c-f636a6212326"
      },
      "source": [
        "# cálculo do IMC de um bebê\n",
        "massa = 11 # em Kg\n",
        "altura = 0.70 # m\n",
        "imc = massa/altura**2 \n",
        "print(imc)"
      ],
      "execution_count": null,
      "outputs": [
        {
          "output_type": "stream",
          "name": "stdout",
          "text": [
            "22.44897959183674\n"
          ]
        }
      ]
    },
    {
      "cell_type": "markdown",
      "metadata": {
        "id": "xzrpx4qNyAmz"
      },
      "source": [
        "Os **erros de semântica** mais comuns até aqui devem ser os de precedência de operações matemáticas. Por exemplo, se você quer calcular 1/(2pi):"
      ]
    },
    {
      "cell_type": "code",
      "metadata": {
        "id": "uYtTBiEDyAm0",
        "colab": {
          "base_uri": "https://localhost:8080/"
        },
        "outputId": "5112171b-17b2-4f39-f9d2-818841c10ec2"
      },
      "source": [
        "pi = 3.14\n",
        "1/2*pi"
      ],
      "execution_count": null,
      "outputs": [
        {
          "output_type": "execute_result",
          "data": {
            "text/plain": [
              "1.57"
            ]
          },
          "metadata": {},
          "execution_count": 42
        }
      ]
    },
    {
      "cell_type": "code",
      "metadata": {
        "id": "FYBKn0PxyAm2",
        "colab": {
          "base_uri": "https://localhost:8080/"
        },
        "outputId": "4cf00804-055e-4421-8595-06fb7030fa99"
      },
      "source": [
        "1/(2*pi)"
      ],
      "execution_count": null,
      "outputs": [
        {
          "output_type": "execute_result",
          "data": {
            "text/plain": [
              "0.1592356687898089"
            ]
          },
          "metadata": {},
          "execution_count": 43
        }
      ]
    },
    {
      "cell_type": "markdown",
      "metadata": {
        "id": "Vz8GxGVqyAm5"
      },
      "source": [
        "## Exercícios\n",
        "\n",
        "### Exercício 1:\n",
        "Considere as seguintes declarações de atribuições:\n",
        "   * largura = 17 \n",
        "   * altura = 12.0\n",
        "   * delimitador = \".\"\n",
        "   \n",
        "Para cada uma das expressões a seguir, escreva o valor das expressões e o tipo (do valor da expressão):\n",
        "1. largura/2\n",
        "1. largura/2.0\n",
        "1. altura/3\n",
        "1. 1 + 2 * 5\n",
        "1. delimitador*5\n",
        "\n",
        "Use o interpretador de python para verificar suas respostas.\n",
        "\n",
        "### Exercício 2:\n",
        "O volume de uma esfera de raio *r* é $\\frac{4}{3} \\pi r^{3}$ \n",
        "\n",
        "Qual é o volume de uma esfera de raio 5?\n",
        "\n",
        "### Exercício 3:\n",
        "Suponha que o preço de um livro seja 24.95 reais, porém as livrarias têm desconto de 40%. Os custos de envio são de 3.00 reais para o primeiro livro e 0.75 reais para os livros adicionais. Qual é o custo total da compra de 60 livros?  \n",
        "\n",
        "### Exercício 4:\n",
        "Um laser vermelho (com comprimento de onda $\\lambda = 632.8$ nm) incide em uma fenda dupla produzindo um padrão de interferência com franjas claras e escuras, em um anteparo situado a uma distância D = 1.98 m da fenda. Calcule a distância $\\Delta y$ entre dois máximos consecutivos de interferência. Considere o espaçamento entre as fendas, $d$, como sendo igual a 0.250 mm.\n",
        "*Dica: a distância entre dois máximos de interferência consecutivos pode ser aproximada por $\\Delta y = \\frac{\\lambda D}{d}$.*"
      ]
    },
    {
      "cell_type": "markdown",
      "metadata": {
        "id": "wpQfZiuu7pUO"
      },
      "source": [
        "Resolução dos Exercícios acima.\n"
      ]
    },
    {
      "cell_type": "code",
      "metadata": {
        "id": "-X-ddzJt8QLZ",
        "colab": {
          "base_uri": "https://localhost:8080/"
        },
        "outputId": "4b4e2d1e-1a9c-4a01-c840-9dfa339fe1dd"
      },
      "source": [
        "# Exercício 1\n",
        "\n",
        "# Considere as seguintes declarações e atribuições.\n",
        "\n",
        "largura = 17  \n",
        "altura = 12.0 \n",
        "delimitador = \".\"\n",
        "\n",
        "# Para cada uma das expressões a seguir, escreva o valor das expressões e o tipo (do valor da expressão).\n",
        "\n",
        "print(\"largura/2: \", largura/2)\n",
        "print(\"largura/2.0: \", largura/2.0) \n",
        "print(\"altura/3: \", altura/3) \n",
        "print(\"1 + 2 x 5: \", 1 + 2*5)\n",
        "print(\"delimitador x 5: \", delimitador*5)\n",
        "\n"
      ],
      "execution_count": null,
      "outputs": [
        {
          "output_type": "stream",
          "name": "stdout",
          "text": [
            "largura/2:  8.5\n",
            "largura/2.0:  8.5\n",
            "altura/3:  4.0\n",
            "1 + 2 x 5:  11\n",
            "delimitador x 5:  .....\n"
          ]
        }
      ]
    },
    {
      "cell_type": "code",
      "metadata": {
        "id": "kBR0HxzL9mVA",
        "colab": {
          "base_uri": "https://localhost:8080/"
        },
        "outputId": "00c722ec-f613-4d3a-ba2b-1f60b370977a"
      },
      "source": [
        "type(largura/2)"
      ],
      "execution_count": null,
      "outputs": [
        {
          "output_type": "execute_result",
          "data": {
            "text/plain": [
              "float"
            ]
          },
          "metadata": {},
          "execution_count": 55
        }
      ]
    },
    {
      "cell_type": "code",
      "metadata": {
        "id": "Jr_KdDj_GlyL",
        "colab": {
          "base_uri": "https://localhost:8080/"
        },
        "outputId": "d6519ca6-0cad-4535-89a8-77bb1e957a83"
      },
      "source": [
        "type (largura/2.0)"
      ],
      "execution_count": null,
      "outputs": [
        {
          "output_type": "execute_result",
          "data": {
            "text/plain": [
              "float"
            ]
          },
          "metadata": {},
          "execution_count": 56
        }
      ]
    },
    {
      "cell_type": "code",
      "metadata": {
        "id": "UVxh3r3hGmQP",
        "colab": {
          "base_uri": "https://localhost:8080/"
        },
        "outputId": "efee1c9f-d71a-40a2-f59d-3b543680d93b"
      },
      "source": [
        "type(altura/3)"
      ],
      "execution_count": null,
      "outputs": [
        {
          "output_type": "execute_result",
          "data": {
            "text/plain": [
              "float"
            ]
          },
          "metadata": {},
          "execution_count": 57
        }
      ]
    },
    {
      "cell_type": "code",
      "metadata": {
        "id": "WZ32rqodGmko",
        "colab": {
          "base_uri": "https://localhost:8080/"
        },
        "outputId": "e4aef737-01d8-49fb-ee83-0038dfe20d7e"
      },
      "source": [
        "type(1 + 2*5)"
      ],
      "execution_count": null,
      "outputs": [
        {
          "output_type": "execute_result",
          "data": {
            "text/plain": [
              "int"
            ]
          },
          "metadata": {},
          "execution_count": 58
        }
      ]
    },
    {
      "cell_type": "code",
      "metadata": {
        "id": "e1k3VPYvGm5-",
        "colab": {
          "base_uri": "https://localhost:8080/"
        },
        "outputId": "f0de5e38-4a30-40e6-c3a8-52f0fa8c4e91"
      },
      "source": [
        "type(delimitador*5)"
      ],
      "execution_count": null,
      "outputs": [
        {
          "output_type": "execute_result",
          "data": {
            "text/plain": [
              "str"
            ]
          },
          "metadata": {},
          "execution_count": 59
        }
      ]
    },
    {
      "cell_type": "code",
      "metadata": {
        "id": "pCqLO2D087Dy",
        "colab": {
          "base_uri": "https://localhost:8080/"
        },
        "outputId": "7b630d80-289b-4c02-9175-03b203f5674b"
      },
      "source": [
        "# Exercício 2\n",
        "\n",
        "# O volume de uma esfera de raio r é 4/3pi*r**3. Qual é o volume de uma esfera de raio igual a 5 ?\n",
        "\n",
        "import math\n",
        "\n",
        "r = 5\n",
        "V = (4/3)* math.pi * r**(3)\n",
        "\n",
        "print(\"Volume: \", V, \"cm^3\")"
      ],
      "execution_count": null,
      "outputs": [
        {
          "output_type": "stream",
          "name": "stdout",
          "text": [
            "Volume:  523.5987755982989 cm^3\n"
          ]
        }
      ]
    },
    {
      "cell_type": "code",
      "metadata": {
        "id": "640gq_57-dPc",
        "colab": {
          "base_uri": "https://localhost:8080/"
        },
        "outputId": "28d32113-1a95-45a6-fcd2-3254d9444eca"
      },
      "source": [
        "# Exercício 3\n",
        "\n",
        "# Suponha que o preço de um livro seja 24,95 reais, porém as livrarias têm desconto de 40%.\n",
        "# Os custos de envio são de 3,00 reais para o primeiro livro e 0,75 para os livros adicionais. \n",
        "# Qual é o custo total da compra de 60 livros? \n",
        "\n",
        "preço_livro = 24.95\n",
        "desconto_livro = 14.97 # desconto de 40% em cima do preço do livro que é 24,95\n",
        "custo_envio = 3.00\n",
        "custo_adicional_envio = 0.75\n",
        "total_de_livros = 60\n",
        "\n",
        "custo_total = desconto_livro*(1+59)+ (custo_envio +59*custo_adicional_envio)\n",
        "\n",
        "print(\"Custo Total: \", custo_total, \"reais\")"
      ],
      "execution_count": null,
      "outputs": [
        {
          "output_type": "stream",
          "name": "stdout",
          "text": [
            "Custo Total:  945.45 reais\n"
          ]
        }
      ]
    },
    {
      "cell_type": "code",
      "metadata": {
        "id": "qRavLgkwCXu3",
        "colab": {
          "base_uri": "https://localhost:8080/"
        },
        "outputId": "0a757c74-f377-4503-aa7e-a3a15f7ff518"
      },
      "source": [
        "# Exercício 4\n",
        "\n",
        "# Um laser vermelho (com comprimento de onda lambda = 632.8 nm), incide em uma fenda dupla produzindo um padrão de interferência\n",
        "# com franjas escuras e claras, em um anteparo situado a uma distância D= 1.98 m da fenda. Calcule a distância (Delta Y) entre\n",
        "# dois máximos consecutivos de interferência. Considere o espaçamento entre as fendas, d, como sendo igual a 0.250 mm.\n",
        "# Dica: a distância entre dois máximos de interferência consecutivos pode ser aproximada por (Delta Y) = (Lambda D)/d   \n",
        "\n",
        "# Convertendo as grandezas apresentadas no problema para a unidade de metro.\n",
        "\n",
        "lam = 632.8*10**(-9)\n",
        "D = 1.98\n",
        "d = 0.250*10**(-3)\n",
        "\n",
        "Delta_Y = (lam*D)/d\n",
        "print(\"Delta Y: \", Delta_Y, \"metros\")\n"
      ],
      "execution_count": null,
      "outputs": [
        {
          "output_type": "stream",
          "name": "stdout",
          "text": [
            "Delta Y:  0.005011776 metros\n"
          ]
        }
      ]
    },
    {
      "cell_type": "markdown",
      "metadata": {
        "id": "ApWStk60yAm4"
      },
      "source": [
        "## Glossário\n",
        "\n",
        "* **valor:** Uma das unidades básicas de dados, como um número ou string, que um programa manipula.\n",
        "* **tipo:** Uma categoria de valores. Os tipos que vimos até agora são inteiros (tipo int), números de ponto flutuante (tipo float) e strings (tipo str).\n",
        "* **inteiro:** Um tipo que representa números inteiros.\n",
        "* **ponto flutuante:** Um tipo que representa números com partes fracionárias.\n",
        "* **string:** Um tipo que representa sequências de caracteres.\n",
        "* **variável:** Um nome que se refere a um valor.\n",
        "* **declaração:** Uma seção de código que representa um comando ou ação. Até agora, as declarações que temos visto são atribuições e declarações impressas.\n",
        "* **atribuição:** Uma declaração que atribui um valor a uma variável.\n",
        "* **palavra chave:** Uma palavra reservada que é usada pelo compilador para analisar um programa; você não pode usar palavras-chave como if, def e while como nomes de variáveis.\n",
        "* **operador:** Um símbolo especial que representa um cálculo simples, como adição, multiplicação ou concatenação de string.\n",
        "* **operando:** Um dos valores nos quais um operador opera.\n",
        "* **divisão de piso:** A operação que divide dois números e corta a parte fracionária.\n",
        "* **expressão:** Uma combinação de variáveis, operadores e valores que representa um único valor de resultado.\n",
        "* **Estimar/calcular:** Simplificar uma expressão executando as operações para gerar um único valor.\n",
        "* **regras de precedência:** O conjunto de regras que governam a ordem na qual as expressões envolvendo vários operadores e operandos são avaliadas.\n",
        "* **concatenar:** Unir dois operandos de ponta a ponta.\n",
        "* **Comentar:** Informações em um programa destinado a outros programadores (ou qualquer pessoa que esteja lendo o código-fonte) e não tem efeito sobre a execução do programa."
      ]
    }
  ]
}